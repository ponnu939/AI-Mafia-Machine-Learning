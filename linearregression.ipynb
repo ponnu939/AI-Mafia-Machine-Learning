{
 "cells": [
  {
   "cell_type": "code",
   "execution_count": 7,
   "metadata": {},
   "outputs": [],
   "source": [
    "import pandas as pd\n",
    "import matplotlib.pyplot as plt\n",
    "import numpy as np"
   ]
  },
  {
   "cell_type": "code",
   "execution_count": 21,
   "metadata": {},
   "outputs": [
    {
     "name": "stdout",
     "output_type": "stream",
     "text": [
      "(99, 1)\n",
      "(99, 1)\n"
     ]
    }
   ],
   "source": [
    "dfx=pd.read_csv(\"linearX.csv\")\n",
    "dfy=pd.read_csv(\"linearY.csv\")\n",
    "\n",
    "x = dfx.values\n",
    "y = dfy.values\n",
    "\n",
    "print(x.shape)\n",
    "print(y.shape)\n"
   ]
  },
  {
   "cell_type": "code",
   "execution_count": 29,
   "metadata": {},
   "outputs": [
    {
     "data": {
      "text/plain": [
       "array([[ 8. ],\n",
       "       [ 9.1],\n",
       "       [ 8.4],\n",
       "       [ 6.9],\n",
       "       [ 7.7],\n",
       "       [15.6],\n",
       "       [ 7.3],\n",
       "       [ 7. ],\n",
       "       [ 7.2],\n",
       "       [10.1],\n",
       "       [11.5],\n",
       "       [ 7.1],\n",
       "       [10. ],\n",
       "       [ 8.9],\n",
       "       [ 7.9],\n",
       "       [ 5.6],\n",
       "       [ 6.3],\n",
       "       [ 6.7],\n",
       "       [10.4],\n",
       "       [ 8.5],\n",
       "       [ 7.4],\n",
       "       [ 6.3],\n",
       "       [ 5.4],\n",
       "       [ 8.9],\n",
       "       [ 9.4],\n",
       "       [ 7.5],\n",
       "       [11.9],\n",
       "       [ 7.8],\n",
       "       [ 7.4],\n",
       "       [10.8],\n",
       "       [10.2],\n",
       "       [ 6.2],\n",
       "       [ 7.7],\n",
       "       [13.7],\n",
       "       [ 8. ],\n",
       "       [ 6.7],\n",
       "       [ 6.7],\n",
       "       [ 7. ],\n",
       "       [ 8.3],\n",
       "       [ 7.4],\n",
       "       [ 9.9],\n",
       "       [ 6.1],\n",
       "       [ 7. ],\n",
       "       [ 5.4],\n",
       "       [10.7],\n",
       "       [ 7.6],\n",
       "       [ 8.9],\n",
       "       [ 9.2],\n",
       "       [ 6.6],\n",
       "       [ 7.2],\n",
       "       [ 8. ],\n",
       "       [ 7.8],\n",
       "       [ 7.9],\n",
       "       [ 7. ],\n",
       "       [ 7. ],\n",
       "       [ 7.6],\n",
       "       [ 9.1],\n",
       "       [ 9. ],\n",
       "       [ 7.9],\n",
       "       [ 6.6],\n",
       "       [11.9],\n",
       "       [ 6.5],\n",
       "       [ 7.1],\n",
       "       [ 8.8],\n",
       "       [ 7.5],\n",
       "       [ 7.7],\n",
       "       [ 6. ],\n",
       "       [10.6],\n",
       "       [ 6.6],\n",
       "       [ 8.2],\n",
       "       [ 7.9],\n",
       "       [ 7.1],\n",
       "       [ 5.6],\n",
       "       [ 6.4],\n",
       "       [ 7.5],\n",
       "       [ 9.8],\n",
       "       [ 7. ],\n",
       "       [10.5],\n",
       "       [ 7.1],\n",
       "       [ 6.2],\n",
       "       [ 6.5],\n",
       "       [ 7.7],\n",
       "       [ 7.2],\n",
       "       [ 9.3],\n",
       "       [ 8.5],\n",
       "       [ 7.7],\n",
       "       [ 6.8],\n",
       "       [ 7.8],\n",
       "       [ 8.7],\n",
       "       [ 9.6],\n",
       "       [ 7.2],\n",
       "       [ 9.3],\n",
       "       [ 8.1],\n",
       "       [ 6.6],\n",
       "       [ 7.8],\n",
       "       [10.2],\n",
       "       [ 6.1],\n",
       "       [ 7.3],\n",
       "       [ 7.3]])"
      ]
     },
     "execution_count": 29,
     "metadata": {},
     "output_type": "execute_result"
    }
   ],
   "source": [
    "x=x.reshape((-1,1))\n",
    "x"
   ]
  },
  {
   "cell_type": "code",
   "execution_count": 30,
   "metadata": {},
   "outputs": [],
   "source": [
    "y=y.reshape((-1,1))"
   ]
  },
  {
   "cell_type": "code",
   "execution_count": 24,
   "metadata": {},
   "outputs": [
    {
     "data": {
      "image/png": "[encoded data removed]",
      "text/plain": [
       "<Figure size 432x288 with 1 Axes>"
      ]
     },
     "metadata": {
      "needs_background": "light"
     },
     "output_type": "display_data"
    }
   ],
   "source": [
    "plt.scatter(x,y)\n",
    "plt.show()"
   ]
  },
  {
   "cell_type": "code",
   "execution_count": 25,
   "metadata": {},
   "outputs": [],
   "source": [
    "from sklearn.linear_model import LinearRegression"
   ]
  },
  {
   "cell_type": "code",
   "execution_count": 26,
   "metadata": {},
   "outputs": [],
   "source": [
    "#getting object of LinearRegression class\n",
    "\n",
    "model=LinearRegression()"
   ]
  },
  {
   "cell_type": "code",
   "execution_count": 31,
   "metadata": {},
   "outputs": [
    {
     "data": {
      "text/plain": [
       "LinearRegression(copy_X=True, fit_intercept=True, n_jobs=None, normalize=False)"
      ]
     },
     "execution_count": 31,
     "metadata": {},
     "output_type": "execute_result"
    }
   ],
   "source": [
    "# Training\n",
    "model.fit(x,y)"
   ]
  },
  {
   "cell_type": "code",
   "execution_count": 32,
   "metadata": {},
   "outputs": [],
   "source": [
    "# prediction\n",
    "output=model.predict(x)"
   ]
  },
  {
   "cell_type": "code",
   "execution_count": 33,
   "metadata": {},
   "outputs": [
    {
     "name": "stdout",
     "output_type": "stream",
     "text": [
      "[0.9903092]\n",
      "[[0.00078556]]\n"
     ]
    }
   ],
   "source": [
    "# bias is intercept and coefficient is slope\n",
    "bias = model.intercept_\n",
    "coeff = model.coef_\n",
    "\n",
    "print(bias)\n",
    "print(coeff)"
   ]
  },
  {
   "cell_type": "code",
   "execution_count": 35,
   "metadata": {},
   "outputs": [
    {
     "data": {
      "text/plain": [
       "0.43818504557920035"
      ]
     },
     "execution_count": 35,
     "metadata": {},
     "output_type": "execute_result"
    }
   ],
   "source": [
    "model.score(x,y)"
   ]
  },
  {
   "cell_type": "code",
   "execution_count": 38,
   "metadata": {},
   "outputs": [
    {
     "data": {
      "image/png": "[encoded data removed]",
      "text/plain": [
       "<Figure size 432x288 with 1 Axes>"
      ]
     },
     "metadata": {
      "needs_background": "light"
     },
     "output_type": "display_data"
    }
   ],
   "source": [
    "# visualize\n",
    "plt.scatter(x,y,color='blue',label='data')\n",
    "plt.plot(x,output,color='black',label='prediction')\n",
    "plt.legend()\n",
    "plt.show()"
   ]
  },
  {
   "cell_type": "code",
   "execution_count": null,
   "metadata": {},
   "outputs": [],
   "source": []
  }
 ],
 "metadata": {
  "kernelspec": {
   "display_name": "Python 3",
   "language": "python",
   "name": "python3"
  },
  "language_info": {
   "codemirror_mode": {
    "name": "ipython",
    "version": 3
   },
   "file_extension": ".py",
   "mimetype": "text/x-python",
   "name": "python",
   "nbconvert_exporter": "python",
   "pygments_lexer": "ipython3",
   "version": "3.7.6"
  }
 },
 "nbformat": 4,
 "nbformat_minor": 4
}
